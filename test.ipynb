{
 "cells": [
  {
   "cell_type": "markdown",
   "source": [
    "<div style=\"background-color: darkgreen; padding: 10px; color: #F7FF80; border-bottom: 10px solid #BA5E02; border-radius: 10px;\">\n",
    "    <h2 style=\"margin: 0; padding: 0;\">TABLE OF CONTENTS</h2>\n",
    "</div>\n",
    "\n",
    "* [<span style=\"color: darkgreen;\">IMPORTS</span>](#1)\n",
    "* [<span style=\"color: darkgreen;\">INTRODUCTION</span>](#2)\n",
    "* [<span style=\"color: darkgreen;\">DATA PROCESSING</span>](#3)\n",
    "* [<span style=\"color: darkgreen;\">PREDICT MEAN QUANTITY</span>](#4)\n",
    "* [<span style=\"color: darkgreen;\">PREDICT QUANTITY FOR STORES</span>](#5)\n",
    "* [<span style=\"color: darkgreen;\">CONCLUSION</span>](#6)"
   ],
   "metadata": {
    "collapsed": false
   },
   "id": "bf76b82130e8f96d"
  },
  {
   "cell_type": "markdown",
   "source": [
    "<a id=\"1\"></a>\n",
    "# <div style= \"font-family: Cambria; font-weight:bold; letter-spacing: 0px; color:#ffffff; font-size:120%; text-align:left;padding:3.0px; background: darkgreen; border-bottom: 10px solid #099A9A; border-radius: 10px;\"> Package Imports<br><div> "
   ],
   "metadata": {
    "collapsed": false
   },
   "id": "9c65beeafe3150c"
  },
  {
   "cell_type": "code",
   "execution_count": 1,
   "outputs": [],
   "source": [
    "import pandas as pd\n",
    "import numpy as np\n",
    "\n",
    "import matplotlib.pyplot as plt\n",
    "import seaborn as sns\n",
    "\n",
    "import warnings"
   ],
   "metadata": {
    "collapsed": false,
    "ExecuteTime": {
     "end_time": "2023-10-01T10:37:27.344283598Z",
     "start_time": "2023-10-01T10:37:27.297193031Z"
    }
   },
   "id": "3651d6fda16b1cac"
  },
  {
   "cell_type": "code",
   "execution_count": null,
   "outputs": [],
   "source": [],
   "metadata": {
    "collapsed": false
   },
   "id": "a89e00bc4343f537"
  }
 ],
 "metadata": {
  "kernelspec": {
   "display_name": "Python 3",
   "language": "python",
   "name": "python3"
  },
  "language_info": {
   "codemirror_mode": {
    "name": "ipython",
    "version": 2
   },
   "file_extension": ".py",
   "mimetype": "text/x-python",
   "name": "python",
   "nbconvert_exporter": "python",
   "pygments_lexer": "ipython2",
   "version": "2.7.6"
  }
 },
 "nbformat": 4,
 "nbformat_minor": 5
}
