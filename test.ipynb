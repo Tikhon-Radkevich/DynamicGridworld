{
 "cells": [
  {
   "cell_type": "markdown",
   "source": [
    "<div style=\"background-color: darkgreen; padding: 10px; color: #F7FF80; border-bottom: 10px solid #BA5E02; border-radius: 10px;\">\n",
    "    <h2 style=\"margin: 0; padding: 0;\">TABLE OF CONTENTS</h2>\n",
    "</div>\n"
   ],
   "metadata": {
    "collapsed": false
   },
   "id": "bf76b82130e8f96d"
  },
  {
   "cell_type": "code",
   "execution_count": 7,
   "outputs": [
    {
     "name": "stdout",
     "output_type": "stream",
     "text": [
      "123\n"
     ]
    }
   ],
   "source": [
    "print(123)"
   ],
   "metadata": {
    "collapsed": false,
    "ExecuteTime": {
     "end_time": "2023-10-01T10:46:58.339861479Z",
     "start_time": "2023-10-01T10:46:58.307666402Z"
    }
   },
   "id": "3528c4529b7648dd"
  },
  {
   "cell_type": "markdown",
   "source": [
    "<div style= \"font-family: Cambria; font-weight:bold; letter-spacing: 0px; color:#ffffff; font-size:120%; text-align:left;padding:3.0px; background: darkgreen; border-bottom: 10px solid #099A9A; border-radius: 10px;\"> Package Imports<br><div> "
   ],
   "metadata": {
    "collapsed": false
   },
   "id": "dd209daaaee22424"
  },
  {
   "cell_type": "code",
   "execution_count": 4,
   "outputs": [],
   "source": [
    "import pandas as pd\n",
    "import numpy as np\n",
    "\n",
    "import matplotlib.pyplot as plt\n",
    "import seaborn as sns\n",
    "\n",
    "import warnings"
   ],
   "metadata": {
    "collapsed": false,
    "ExecuteTime": {
     "end_time": "2023-10-01T10:46:08.635503566Z",
     "start_time": "2023-10-01T10:46:08.591845506Z"
    }
   },
   "id": "3651d6fda16b1cac"
  },
  {
   "cell_type": "code",
   "execution_count": 5,
   "outputs": [],
   "source": [
    "from sklearn.model_selection import train_test_split\n",
    "from sklearn.metrics import mean_squared_error\n",
    "from sklearn.preprocessing import MinMaxScaler\n",
    "\n",
    "from keras import Sequential, layers"
   ],
   "metadata": {
    "collapsed": false,
    "ExecuteTime": {
     "end_time": "2023-10-01T10:46:08.833803085Z",
     "start_time": "2023-10-01T10:46:08.824069490Z"
    }
   },
   "id": "a89e00bc4343f537"
  },
  {
   "cell_type": "code",
   "execution_count": 6,
   "outputs": [],
   "source": [
    "warnings.filterwarnings(\"ignore\", category=FutureWarning, module=\"seaborn\")\n",
    "\n",
    "pd.set_option(\"display.max_columns\", None)\n",
    "pd.set_option(\"display.width\", None)"
   ],
   "metadata": {
    "collapsed": false,
    "ExecuteTime": {
     "end_time": "2023-10-01T10:46:09.578026647Z",
     "start_time": "2023-10-01T10:46:09.572565364Z"
    }
   },
   "id": "f859b82d00e4de5b"
  },
  {
   "cell_type": "markdown",
   "source": [
    "<div class=\"alert alert-block alert-info\" style = \"font-family: Cambria Math;font-size: 115%; color: black; background-color: #e6f9ff; border: dashed black 1.0px; padding: 3.5px\" >\n",
    "<p>&emsp; \n",
    "    This notebook is for predicting sales quantity in our Dynamic Gridworld challenge. Participants aim to predict product sales in a dynamic 2D world comprising cities and stores.<br>\n",
    "    The evaluation metric used is the <b>Root Mean Squared Error (RMSE)</b></p>\n",
    "\n",
    "<p>The approach involves creating two models:</p>\n",
    "<ul>\n",
    "   <li>The first model predicts the mean quantity value for each store in each city.</li>\n",
    "   <li>The second model predicts the quantity for a store relative to the mean quantity in the city.</li>\n",
    "</ul>\n",
    "</div>"
   ],
   "metadata": {
    "collapsed": false
   },
   "id": "247fd2be442501d7"
  },
  {
   "cell_type": "code",
   "execution_count": null,
   "outputs": [],
   "source": [],
   "metadata": {
    "collapsed": false
   },
   "id": "59275482920ef5a5"
  }
 ],
 "metadata": {
  "kernelspec": {
   "display_name": "Python 3",
   "language": "python",
   "name": "python3"
  },
  "language_info": {
   "codemirror_mode": {
    "name": "ipython",
    "version": 2
   },
   "file_extension": ".py",
   "mimetype": "text/x-python",
   "name": "python",
   "nbconvert_exporter": "python",
   "pygments_lexer": "ipython2",
   "version": "2.7.6"
  }
 },
 "nbformat": 4,
 "nbformat_minor": 5
}
